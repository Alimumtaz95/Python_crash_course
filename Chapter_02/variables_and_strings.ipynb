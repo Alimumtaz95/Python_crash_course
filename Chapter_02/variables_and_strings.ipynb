{
 "cells": [
  {
   "cell_type": "markdown",
   "metadata": {},
   "source": [
    "# Variable Names\n",
    "A variable can have a short name (like x and y) or a more descriptive name (age, car_name, total_volume). \n",
    "### Rules for Python variables:\n",
    "- A variable name must start with a letter or the underscore character\n",
    "- A variable name cannot start with a number\n",
    "- A variable name can only contain alpha-numeric characters and underscores (A-z, 0-9, and _ )\n",
    "Variable names are case-sensitive (age, Age and AGE are three different variables)\n",
    "- A variable name cannot be any of the [Python keywords](https://www.w3schools.com/python/python_ref_keywords.asp).\n",
    "\n",
    "***Remember that variable names are case-sensitive***\n",
    "\n",
    "### Multi Words Variable Names:\n",
    "Variable names with more than one word can be difficult to read.\n",
    "There are several techniques you can use to make them more readable:\n",
    "\n",
    "### Camel Case\n",
    "Each word, except the first, starts with a capital letter:\n",
    "```python\n",
    "myVariableName = \"John\"\n",
    "```\n",
    "\n",
    "### Pascal Case\n",
    "Each word starts with a capital letter:\n",
    "```python\n",
    "MyVariableName = \"John\"\n",
    "```\n",
    "\n",
    "### Snake Case\n",
    "Each word is separated by an underscore character:\n",
    "```python\n",
    "my_variable_name = \"John\"\n",
    "```"
   ]
  },
  {
   "cell_type": "code",
   "execution_count": 1,
   "metadata": {},
   "outputs": [
    {
     "name": "stdout",
     "output_type": "stream",
     "text": [
      "Hello python crash course world!\n"
     ]
    }
   ],
   "source": [
    "message = \"Hello python crash course world!\"\n",
    "print(message)"
   ]
  },
  {
   "cell_type": "code",
   "execution_count": 2,
   "metadata": {},
   "outputs": [
    {
     "ename": "NameError",
     "evalue": "name 'mesage' is not defined",
     "output_type": "error",
     "traceback": [
      "\u001b[1;31m---------------------------------------------------------------------------\u001b[0m",
      "\u001b[1;31mNameError\u001b[0m                                 Traceback (most recent call last)",
      "Cell \u001b[1;32mIn[2], line 2\u001b[0m\n\u001b[0;32m      1\u001b[0m message \u001b[38;5;241m=\u001b[39m \u001b[38;5;124m\"\u001b[39m\u001b[38;5;124mImran Khan is a Great leader!\u001b[39m\u001b[38;5;124m\"\u001b[39m\n\u001b[1;32m----> 2\u001b[0m \u001b[38;5;28mprint\u001b[39m(\u001b[43mmesage\u001b[49m)\n",
      "\u001b[1;31mNameError\u001b[0m: name 'mesage' is not defined"
     ]
    }
   ],
   "source": [
    "message = \"Imran Khan is a Great leader!\"\n",
    "print(mesage)"
   ]
  }
 ],
 "metadata": {
  "kernelspec": {
   "display_name": "Python 3",
   "language": "python",
   "name": "python3"
  },
  "language_info": {
   "codemirror_mode": {
    "name": "ipython",
    "version": 3
   },
   "file_extension": ".py",
   "mimetype": "text/x-python",
   "name": "python",
   "nbconvert_exporter": "python",
   "pygments_lexer": "ipython3",
   "version": "3.12.4"
  }
 },
 "nbformat": 4,
 "nbformat_minor": 2
}
